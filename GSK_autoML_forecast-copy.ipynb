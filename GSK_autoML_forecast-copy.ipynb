{
 "cells": [
  {
   "cell_type": "markdown",
   "metadata": {},
   "source": [
    "## Setup"
   ]
  },
  {
   "cell_type": "code",
   "execution_count": 3,
   "metadata": {},
   "outputs": [],
   "source": [
    "import azureml.core\n",
    "import pandas as pd\n",
    "import numpy as np\n",
    "import logging\n",
    "\n",
    "from azureml.core.workspace import Workspace\n",
    "from azureml.core.experiment import Experiment\n",
    "from azureml.train.automl import AutoMLConfig\n",
    "from azureml.automl.core.featurization import FeaturizationConfig"
   ]
  },
  {
   "cell_type": "code",
   "execution_count": 4,
   "metadata": {},
   "outputs": [
    {
     "name": "stdout",
     "output_type": "stream",
     "text": [
      "This notebook was created using version 1.22.0 of the Azure ML SDK\n",
      "You are currently using version 1.22.0 of the Azure ML SDK\n"
     ]
    }
   ],
   "source": [
    "print(\"This notebook was created using version 1.22.0 of the Azure ML SDK\")\n",
    "print(\"You are currently using version\", azureml.core.VERSION, \"of the Azure ML SDK\")"
   ]
  },
  {
   "cell_type": "code",
   "execution_count": 5,
   "metadata": {},
   "outputs": [
    {
     "data": {
      "text/html": [
       "<div>\n",
       "<style scoped>\n",
       "    .dataframe tbody tr th:only-of-type {\n",
       "        vertical-align: middle;\n",
       "    }\n",
       "\n",
       "    .dataframe tbody tr th {\n",
       "        vertical-align: top;\n",
       "    }\n",
       "\n",
       "    .dataframe thead th {\n",
       "        text-align: right;\n",
       "    }\n",
       "</style>\n",
       "<table border=\"1\" class=\"dataframe\">\n",
       "  <thead>\n",
       "    <tr style=\"text-align: right;\">\n",
       "      <th></th>\n",
       "      <th></th>\n",
       "    </tr>\n",
       "  </thead>\n",
       "  <tbody>\n",
       "    <tr>\n",
       "      <th>Subscription ID</th>\n",
       "      <td>08d28dbf-1252-4438-b3be-0188e3803935</td>\n",
       "    </tr>\n",
       "    <tr>\n",
       "      <th>Workspace</th>\n",
       "      <td>Forecasting</td>\n",
       "    </tr>\n",
       "    <tr>\n",
       "      <th>SKU</th>\n",
       "      <td>Basic</td>\n",
       "    </tr>\n",
       "    <tr>\n",
       "      <th>Resource Group</th>\n",
       "      <td>forecastrg</td>\n",
       "    </tr>\n",
       "    <tr>\n",
       "      <th>Location</th>\n",
       "      <td>westcentralus</td>\n",
       "    </tr>\n",
       "    <tr>\n",
       "      <th>Run History Name</th>\n",
       "      <td>automl-gsk-forecasting</td>\n",
       "    </tr>\n",
       "  </tbody>\n",
       "</table>\n",
       "</div>"
      ],
      "text/plain": [
       "                                                      \n",
       "Subscription ID   08d28dbf-1252-4438-b3be-0188e3803935\n",
       "Workspace         Forecasting                         \n",
       "SKU               Basic                               \n",
       "Resource Group    forecastrg                          \n",
       "Location          westcentralus                       \n",
       "Run History Name  automl-gsk-forecasting              "
      ]
     },
     "execution_count": 5,
     "metadata": {},
     "output_type": "execute_result"
    }
   ],
   "source": [
    "ws = Workspace.from_config()\n",
    "\n",
    "# choose a name for the run history container in the workspace\n",
    "experiment_name = 'automl-gsk-forecasting'\n",
    "\n",
    "experiment = Experiment(ws, experiment_name)\n",
    "\n",
    "output = {}\n",
    "output['Subscription ID'] = ws.subscription_id\n",
    "output['Workspace'] = ws.name\n",
    "output['SKU'] = ws.sku\n",
    "output['Resource Group'] = ws.resource_group\n",
    "output['Location'] = ws.location\n",
    "output['Run History Name'] = experiment_name\n",
    "pd.set_option('display.max_colwidth', -1)\n",
    "outputDf = pd.DataFrame(data = output, index = [''])\n",
    "outputDf.T"
   ]
  },
  {
   "cell_type": "code",
   "execution_count": 6,
   "metadata": {},
   "outputs": [
    {
     "name": "stdout",
     "output_type": "stream",
     "text": [
      "Creating\n",
      "Succeeded\n",
      "AmlCompute wait for completion finished\n",
      "\n",
      "Minimum number of nodes requested have been provisioned\n"
     ]
    }
   ],
   "source": [
    "from azureml.core.compute import ComputeTarget, AmlCompute\n",
    "from azureml.core.compute_target import ComputeTargetException\n",
    "\n",
    "# Choose a name for your CPU cluster\n",
    "amlcompute_cluster_name = \"cpu-cluster\"\n",
    "\n",
    "# Verify that cluster does not exist already\n",
    "try:\n",
    "    compute_target = ComputeTarget(workspace=ws, name=amlcompute_cluster_name)\n",
    "    print('Found existing cluster, use it.')\n",
    "except ComputeTargetException:\n",
    "    compute_config = AmlCompute.provisioning_configuration(vm_size='STANDARD_D2_V2',\n",
    "                                                           max_nodes=6)\n",
    "    compute_target = ComputeTarget.create(ws, amlcompute_cluster_name, compute_config)\n",
    "\n",
    "compute_target.wait_for_completion(show_output=True)"
   ]
  },
  {
   "cell_type": "code",
   "execution_count": 7,
   "metadata": {},
   "outputs": [
    {
     "data": {
      "text/html": [
       "<div>\n",
       "<style scoped>\n",
       "    .dataframe tbody tr th:only-of-type {\n",
       "        vertical-align: middle;\n",
       "    }\n",
       "\n",
       "    .dataframe tbody tr th {\n",
       "        vertical-align: top;\n",
       "    }\n",
       "\n",
       "    .dataframe thead th {\n",
       "        text-align: right;\n",
       "    }\n",
       "</style>\n",
       "<table border=\"1\" class=\"dataframe\">\n",
       "  <thead>\n",
       "    <tr style=\"text-align: right;\">\n",
       "      <th></th>\n",
       "      <th>SalesOrg</th>\n",
       "      <th>Customer_Name</th>\n",
       "      <th>EAN_UPC_Code</th>\n",
       "      <th>Week_Date_Start</th>\n",
       "      <th>Currency</th>\n",
       "      <th>Sales_Value</th>\n",
       "      <th>Sales_Volume</th>\n",
       "      <th>Retail Sales Price</th>\n",
       "      <th>Base_Sales_Value</th>\n",
       "      <th>Base_Sales_Volume</th>\n",
       "      <th>...</th>\n",
       "      <th>ACV Weighted Distribution Feature Only</th>\n",
       "      <th>ACV Weighted Distribution Display Only</th>\n",
       "      <th>ACV Weighted Distribution Feature and Display</th>\n",
       "      <th>ACV Weighted Distribution Feature and/or Display</th>\n",
       "      <th>RoS</th>\n",
       "      <th>Promoted ACV %</th>\n",
       "      <th>In-store Price Discount %</th>\n",
       "      <th>COVID</th>\n",
       "      <th>Week_of_Year</th>\n",
       "      <th>Post event deep</th>\n",
       "    </tr>\n",
       "  </thead>\n",
       "  <tbody>\n",
       "    <tr>\n",
       "      <th>0</th>\n",
       "      <td>B01</td>\n",
       "      <td>B</td>\n",
       "      <td>33409</td>\n",
       "      <td>2019-01-06</td>\n",
       "      <td>BBB</td>\n",
       "      <td>156797.7504</td>\n",
       "      <td>15663.83795</td>\n",
       "      <td>10.010174</td>\n",
       "      <td>151826.9869</td>\n",
       "      <td>15124.09927</td>\n",
       "      <td>...</td>\n",
       "      <td>0.00000</td>\n",
       "      <td>7.514310</td>\n",
       "      <td>0.000000</td>\n",
       "      <td>7.514310</td>\n",
       "      <td>195.833734</td>\n",
       "      <td>0.114147</td>\n",
       "      <td>0.997154</td>\n",
       "      <td>0.0</td>\n",
       "      <td>1</td>\n",
       "      <td>0</td>\n",
       "    </tr>\n",
       "    <tr>\n",
       "      <th>1</th>\n",
       "      <td>B01</td>\n",
       "      <td>B</td>\n",
       "      <td>33409</td>\n",
       "      <td>2019-01-13</td>\n",
       "      <td>BBB</td>\n",
       "      <td>186126.9462</td>\n",
       "      <td>21054.32601</td>\n",
       "      <td>8.840318</td>\n",
       "      <td>127852.6208</td>\n",
       "      <td>13004.89625</td>\n",
       "      <td>...</td>\n",
       "      <td>71.97082</td>\n",
       "      <td>0.289375</td>\n",
       "      <td>6.977614</td>\n",
       "      <td>79.237809</td>\n",
       "      <td>257.859076</td>\n",
       "      <td>0.986674</td>\n",
       "      <td>0.899218</td>\n",
       "      <td>0.0</td>\n",
       "      <td>2</td>\n",
       "      <td>0</td>\n",
       "    </tr>\n",
       "    <tr>\n",
       "      <th>2</th>\n",
       "      <td>B01</td>\n",
       "      <td>B</td>\n",
       "      <td>33409</td>\n",
       "      <td>2019-01-20</td>\n",
       "      <td>BBB</td>\n",
       "      <td>137389.4442</td>\n",
       "      <td>13726.81460</td>\n",
       "      <td>10.008837</td>\n",
       "      <td>134915.7095</td>\n",
       "      <td>13467.75593</td>\n",
       "      <td>...</td>\n",
       "      <td>0.00000</td>\n",
       "      <td>4.671196</td>\n",
       "      <td>0.000000</td>\n",
       "      <td>4.671196</td>\n",
       "      <td>182.537430</td>\n",
       "      <td>0.082453</td>\n",
       "      <td>0.999117</td>\n",
       "      <td>0.0</td>\n",
       "      <td>3</td>\n",
       "      <td>0</td>\n",
       "    </tr>\n",
       "    <tr>\n",
       "      <th>3</th>\n",
       "      <td>B01</td>\n",
       "      <td>B</td>\n",
       "      <td>33409</td>\n",
       "      <td>2019-01-27</td>\n",
       "      <td>BBB</td>\n",
       "      <td>152807.1377</td>\n",
       "      <td>16650.00195</td>\n",
       "      <td>9.177605</td>\n",
       "      <td>115114.5846</td>\n",
       "      <td>11889.90972</td>\n",
       "      <td>...</td>\n",
       "      <td>72.92160</td>\n",
       "      <td>0.033262</td>\n",
       "      <td>4.845493</td>\n",
       "      <td>77.800355</td>\n",
       "      <td>206.959266</td>\n",
       "      <td>0.967057</td>\n",
       "      <td>0.947933</td>\n",
       "      <td>0.0</td>\n",
       "      <td>4</td>\n",
       "      <td>0</td>\n",
       "    </tr>\n",
       "    <tr>\n",
       "      <th>4</th>\n",
       "      <td>B01</td>\n",
       "      <td>B</td>\n",
       "      <td>33409</td>\n",
       "      <td>2019-02-03</td>\n",
       "      <td>BBB</td>\n",
       "      <td>136449.5288</td>\n",
       "      <td>13632.72777</td>\n",
       "      <td>10.008967</td>\n",
       "      <td>133447.8132</td>\n",
       "      <td>13295.02824</td>\n",
       "      <td>...</td>\n",
       "      <td>0.00000</td>\n",
       "      <td>4.910082</td>\n",
       "      <td>0.000000</td>\n",
       "      <td>4.910082</td>\n",
       "      <td>180.106254</td>\n",
       "      <td>0.086928</td>\n",
       "      <td>0.997165</td>\n",
       "      <td>0.0</td>\n",
       "      <td>5</td>\n",
       "      <td>0</td>\n",
       "    </tr>\n",
       "  </tbody>\n",
       "</table>\n",
       "<p>5 rows × 26 columns</p>\n",
       "</div>"
      ],
      "text/plain": [
       "  SalesOrg Customer_Name  EAN_UPC_Code Week_Date_Start Currency  Sales_Value  \\\n",
       "0  B01      B             33409         2019-01-06      BBB      156797.7504   \n",
       "1  B01      B             33409         2019-01-13      BBB      186126.9462   \n",
       "2  B01      B             33409         2019-01-20      BBB      137389.4442   \n",
       "3  B01      B             33409         2019-01-27      BBB      152807.1377   \n",
       "4  B01      B             33409         2019-02-03      BBB      136449.5288   \n",
       "\n",
       "   Sales_Volume  Retail Sales Price  Base_Sales_Value  Base_Sales_Volume  ...  \\\n",
       "0  15663.83795   10.010174           151826.9869       15124.09927        ...   \n",
       "1  21054.32601   8.840318            127852.6208       13004.89625        ...   \n",
       "2  13726.81460   10.008837           134915.7095       13467.75593        ...   \n",
       "3  16650.00195   9.177605            115114.5846       11889.90972        ...   \n",
       "4  13632.72777   10.008967           133447.8132       13295.02824        ...   \n",
       "\n",
       "   ACV Weighted Distribution Feature Only  \\\n",
       "0  0.00000                                  \n",
       "1  71.97082                                 \n",
       "2  0.00000                                  \n",
       "3  72.92160                                 \n",
       "4  0.00000                                  \n",
       "\n",
       "   ACV Weighted Distribution Display Only  \\\n",
       "0  7.514310                                 \n",
       "1  0.289375                                 \n",
       "2  4.671196                                 \n",
       "3  0.033262                                 \n",
       "4  4.910082                                 \n",
       "\n",
       "   ACV Weighted Distribution Feature and Display  \\\n",
       "0  0.000000                                        \n",
       "1  6.977614                                        \n",
       "2  0.000000                                        \n",
       "3  4.845493                                        \n",
       "4  0.000000                                        \n",
       "\n",
       "   ACV Weighted Distribution Feature and/or Display         RoS  \\\n",
       "0  7.514310                                          195.833734   \n",
       "1  79.237809                                         257.859076   \n",
       "2  4.671196                                          182.537430   \n",
       "3  77.800355                                         206.959266   \n",
       "4  4.910082                                          180.106254   \n",
       "\n",
       "   Promoted ACV %  In-store Price Discount %  COVID  Week_of_Year  \\\n",
       "0  0.114147        0.997154                   0.0    1              \n",
       "1  0.986674        0.899218                   0.0    2              \n",
       "2  0.082453        0.999117                   0.0    3              \n",
       "3  0.967057        0.947933                   0.0    4              \n",
       "4  0.086928        0.997165                   0.0    5              \n",
       "\n",
       "   Post event deep  \n",
       "0  0                \n",
       "1  0                \n",
       "2  0                \n",
       "3  0                \n",
       "4  0                \n",
       "\n",
       "[5 rows x 26 columns]"
      ]
     },
     "execution_count": 7,
     "metadata": {},
     "output_type": "execute_result"
    }
   ],
   "source": [
    "\n",
    "data = pd.read_csv(\"5_products.csv\", sep=\";\")#, parse_dates=[time_column_name])\n",
    "data.head()"
   ]
  },
  {
   "cell_type": "code",
   "execution_count": 8,
   "metadata": {},
   "outputs": [],
   "source": [
    "time_column_name = 'Week_Date_Start'\n",
    "# Drop the columns 'logQuantity' as it is a leaky feature.\n"
   ]
  },
  {
   "cell_type": "code",
   "execution_count": 9,
   "metadata": {},
   "outputs": [
    {
     "data": {
      "text/html": [
       "<div>\n",
       "<style scoped>\n",
       "    .dataframe tbody tr th:only-of-type {\n",
       "        vertical-align: middle;\n",
       "    }\n",
       "\n",
       "    .dataframe tbody tr th {\n",
       "        vertical-align: top;\n",
       "    }\n",
       "\n",
       "    .dataframe thead th {\n",
       "        text-align: right;\n",
       "    }\n",
       "</style>\n",
       "<table border=\"1\" class=\"dataframe\">\n",
       "  <thead>\n",
       "    <tr style=\"text-align: right;\">\n",
       "      <th></th>\n",
       "      <th>EAN_UPC_Code</th>\n",
       "      <th>Retail Sales Price</th>\n",
       "      <th>ACV Weighted Distribution</th>\n",
       "      <th>Week_Date_Start</th>\n",
       "    </tr>\n",
       "  </thead>\n",
       "  <tbody>\n",
       "    <tr>\n",
       "      <th>0</th>\n",
       "      <td>33409</td>\n",
       "      <td>10.010174</td>\n",
       "      <td>79.985392</td>\n",
       "      <td>2019-01-06</td>\n",
       "    </tr>\n",
       "    <tr>\n",
       "      <th>1</th>\n",
       "      <td>33409</td>\n",
       "      <td>8.840318</td>\n",
       "      <td>81.650514</td>\n",
       "      <td>2019-01-13</td>\n",
       "    </tr>\n",
       "    <tr>\n",
       "      <th>2</th>\n",
       "      <td>33409</td>\n",
       "      <td>10.008837</td>\n",
       "      <td>75.199999</td>\n",
       "      <td>2019-01-20</td>\n",
       "    </tr>\n",
       "    <tr>\n",
       "      <th>3</th>\n",
       "      <td>33409</td>\n",
       "      <td>9.177605</td>\n",
       "      <td>80.450623</td>\n",
       "      <td>2019-01-27</td>\n",
       "    </tr>\n",
       "    <tr>\n",
       "      <th>4</th>\n",
       "      <td>33409</td>\n",
       "      <td>10.008967</td>\n",
       "      <td>75.692695</td>\n",
       "      <td>2019-02-03</td>\n",
       "    </tr>\n",
       "  </tbody>\n",
       "</table>\n",
       "</div>"
      ],
      "text/plain": [
       "   EAN_UPC_Code  Retail Sales Price  ACV Weighted Distribution Week_Date_Start\n",
       "0  33409         10.010174           79.985392                  2019-01-06    \n",
       "1  33409         8.840318            81.650514                  2019-01-13    \n",
       "2  33409         10.008837           75.199999                  2019-01-20    \n",
       "3  33409         9.177605            80.450623                  2019-01-27    \n",
       "4  33409         10.008967           75.692695                  2019-02-03    "
      ]
     },
     "execution_count": 9,
     "metadata": {},
     "output_type": "execute_result"
    }
   ],
   "source": [
    "#data.drop('logQuantity', axis=1, inplace=True)\n",
    "data = data[['EAN_UPC_Code','Retail Sales Price','ACV Weighted Distribution','Week_Date_Start']].copy()\n",
    "data.head()"
   ]
  },
  {
   "cell_type": "code",
   "execution_count": 11,
   "metadata": {},
   "outputs": [
    {
     "name": "stdout",
     "output_type": "stream",
     "text": [
      "Data contains 5 individual time-series.\n"
     ]
    }
   ],
   "source": [
    "nseries = time_series_id_column_names = ['EAN_UPC_Code']\n",
    "nseries = data.groupby(time_series_id_column_names).ngroups\n",
    "print('Data contains {0} individual time-series.'.format(nseries))"
   ]
  },
  {
   "cell_type": "markdown",
   "metadata": {},
   "source": [
    "#### Load Scoring file into Forecast dataframe"
   ]
  },
  {
   "cell_type": "code",
   "execution_count": 12,
   "metadata": {},
   "outputs": [
    {
     "data": {
      "text/html": [
       "<div>\n",
       "<style scoped>\n",
       "    .dataframe tbody tr th:only-of-type {\n",
       "        vertical-align: middle;\n",
       "    }\n",
       "\n",
       "    .dataframe tbody tr th {\n",
       "        vertical-align: top;\n",
       "    }\n",
       "\n",
       "    .dataframe thead th {\n",
       "        text-align: right;\n",
       "    }\n",
       "</style>\n",
       "<table border=\"1\" class=\"dataframe\">\n",
       "  <thead>\n",
       "    <tr style=\"text-align: right;\">\n",
       "      <th></th>\n",
       "      <th>EAN_UPC_Code</th>\n",
       "      <th>Week_Date_Start</th>\n",
       "      <th>Retail Sales Price</th>\n",
       "      <th>ACV Weighted Distribution</th>\n",
       "    </tr>\n",
       "  </thead>\n",
       "  <tbody>\n",
       "    <tr>\n",
       "      <th>0</th>\n",
       "      <td>33409</td>\n",
       "      <td>2020-06-21</td>\n",
       "      <td>10.018474</td>\n",
       "      <td>69.381296</td>\n",
       "    </tr>\n",
       "    <tr>\n",
       "      <th>1</th>\n",
       "      <td>33409</td>\n",
       "      <td>2020-06-28</td>\n",
       "      <td>10.009992</td>\n",
       "      <td>70.695163</td>\n",
       "    </tr>\n",
       "    <tr>\n",
       "      <th>2</th>\n",
       "      <td>33409</td>\n",
       "      <td>2020-07-05</td>\n",
       "      <td>10.010965</td>\n",
       "      <td>72.442687</td>\n",
       "    </tr>\n",
       "    <tr>\n",
       "      <th>3</th>\n",
       "      <td>33409</td>\n",
       "      <td>2020-07-12</td>\n",
       "      <td>10.009826</td>\n",
       "      <td>74.092185</td>\n",
       "    </tr>\n",
       "    <tr>\n",
       "      <th>4</th>\n",
       "      <td>33409</td>\n",
       "      <td>2020-07-19</td>\n",
       "      <td>10.017034</td>\n",
       "      <td>71.756207</td>\n",
       "    </tr>\n",
       "  </tbody>\n",
       "</table>\n",
       "</div>"
      ],
      "text/plain": [
       "   EAN_UPC_Code Week_Date_Start  Retail Sales Price  ACV Weighted Distribution\n",
       "0  33409         2020-06-21      10.018474           69.381296                \n",
       "1  33409         2020-06-28      10.009992           70.695163                \n",
       "2  33409         2020-07-05      10.010965           72.442687                \n",
       "3  33409         2020-07-12      10.009826           74.092185                \n",
       "4  33409         2020-07-19      10.017034           71.756207                "
      ]
     },
     "execution_count": 12,
     "metadata": {},
     "output_type": "execute_result"
    }
   ],
   "source": [
    "forecast = pd.read_csv(\"SCORING_5_products.csv\", sep=\";\")#, parse_dates=[time_column_name])\n",
    "forecast.head()"
   ]
  },
  {
   "cell_type": "markdown",
   "metadata": {},
   "source": [
    "### Data Splitting\n",
    "##### This is not strictly needed\n"
   ]
  },
  {
   "cell_type": "code",
   "execution_count": 14,
   "metadata": {},
   "outputs": [],
   "source": [
    "n_test_periods = 4\n",
    "\n",
    "def split_last_n_by_series_id(df, n):\n",
    "    \"\"\"Group df by series identifiers and split on last n rows for each group.\"\"\"\n",
    "    df_grouped = (df.sort_values(time_column_name) # Sort by ascending time\n",
    "                  .groupby(time_series_id_column_names, group_keys=False))\n",
    "    df_head = df_grouped.apply(lambda dfg: dfg.iloc[:-n])\n",
    "    df_tail = df_grouped.apply(lambda dfg: dfg.iloc[-n:])\n",
    "    return df_head, df_tail\n",
    "\n",
    "train, test = split_last_n_by_series_id(data, n_test_periods)"
   ]
  },
  {
   "cell_type": "markdown",
   "metadata": {},
   "source": [
    "### Upload data to datastore\n"
   ]
  },
  {
   "cell_type": "code",
   "execution_count": 15,
   "metadata": {},
   "outputs": [],
   "source": [
    "train.to_csv (r'./gsk_train.csv', index = None, header=True)\n",
    "test.to_csv (r'./gsk_test.csv', index = None, header=True)\n",
    "#fct.to_csv (r'./gsk_forecast.csv', index = None, header=True)"
   ]
  },
  {
   "cell_type": "code",
   "execution_count": 16,
   "metadata": {},
   "outputs": [
    {
     "name": "stdout",
     "output_type": "stream",
     "text": [
      "Uploading an estimated of 2 files\n",
      "Uploading ./gsk_train.csv\n",
      "Uploaded ./gsk_train.csv, 1 files out of an estimated total of 2\n",
      "Uploading ./gsk_test.csv\n",
      "Uploaded ./gsk_test.csv, 2 files out of an estimated total of 2\n",
      "Uploaded 2 files\n"
     ]
    },
    {
     "data": {
      "text/plain": [
       "$AZUREML_DATAREFERENCE_0c1651cfab6c4aab8cd0ceca2ae1fb48"
      ]
     },
     "execution_count": 16,
     "metadata": {},
     "output_type": "execute_result"
    }
   ],
   "source": [
    "datastore = ws.get_default_datastore()\n",
    "datastore.upload_files(files = ['./gsk_train.csv', './gsk_test.csv'], target_path = 'dataset/', overwrite = True,show_progress = True)"
   ]
  },
  {
   "cell_type": "markdown",
   "metadata": {},
   "source": [
    "### Create dataset for training"
   ]
  },
  {
   "cell_type": "code",
   "execution_count": 18,
   "metadata": {},
   "outputs": [],
   "source": [
    "from azureml.core.dataset import Dataset\n",
    "train_dataset = Dataset.Tabular.from_delimited_files(path=datastore.path('dataset/gsk_train.csv'))"
   ]
  },
  {
   "cell_type": "code",
   "execution_count": 19,
   "metadata": {},
   "outputs": [
    {
     "data": {
      "text/html": [
       "<div>\n",
       "<style scoped>\n",
       "    .dataframe tbody tr th:only-of-type {\n",
       "        vertical-align: middle;\n",
       "    }\n",
       "\n",
       "    .dataframe tbody tr th {\n",
       "        vertical-align: top;\n",
       "    }\n",
       "\n",
       "    .dataframe thead th {\n",
       "        text-align: right;\n",
       "    }\n",
       "</style>\n",
       "<table border=\"1\" class=\"dataframe\">\n",
       "  <thead>\n",
       "    <tr style=\"text-align: right;\">\n",
       "      <th></th>\n",
       "      <th>EAN_UPC_Code</th>\n",
       "      <th>Retail Sales Price</th>\n",
       "      <th>ACV Weighted Distribution</th>\n",
       "      <th>Week_Date_Start</th>\n",
       "    </tr>\n",
       "  </thead>\n",
       "  <tbody>\n",
       "    <tr>\n",
       "      <th>355</th>\n",
       "      <td>41753</td>\n",
       "      <td>7.212368</td>\n",
       "      <td>38.587146</td>\n",
       "      <td>2020-04-19</td>\n",
       "    </tr>\n",
       "    <tr>\n",
       "      <th>356</th>\n",
       "      <td>41753</td>\n",
       "      <td>6.998095</td>\n",
       "      <td>41.524821</td>\n",
       "      <td>2020-04-26</td>\n",
       "    </tr>\n",
       "    <tr>\n",
       "      <th>357</th>\n",
       "      <td>41753</td>\n",
       "      <td>7.749710</td>\n",
       "      <td>38.024747</td>\n",
       "      <td>2020-05-03</td>\n",
       "    </tr>\n",
       "    <tr>\n",
       "      <th>358</th>\n",
       "      <td>41753</td>\n",
       "      <td>6.594763</td>\n",
       "      <td>49.920869</td>\n",
       "      <td>2020-05-10</td>\n",
       "    </tr>\n",
       "    <tr>\n",
       "      <th>359</th>\n",
       "      <td>41753</td>\n",
       "      <td>7.728895</td>\n",
       "      <td>40.487587</td>\n",
       "      <td>2020-05-17</td>\n",
       "    </tr>\n",
       "  </tbody>\n",
       "</table>\n",
       "</div>"
      ],
      "text/plain": [
       "     EAN_UPC_Code  Retail Sales Price  ACV Weighted Distribution  \\\n",
       "355  41753         7.212368            38.587146                   \n",
       "356  41753         6.998095            41.524821                   \n",
       "357  41753         7.749710            38.024747                   \n",
       "358  41753         6.594763            49.920869                   \n",
       "359  41753         7.728895            40.487587                   \n",
       "\n",
       "    Week_Date_Start  \n",
       "355 2020-04-19       \n",
       "356 2020-04-26       \n",
       "357 2020-05-03       \n",
       "358 2020-05-10       \n",
       "359 2020-05-17       "
      ]
     },
     "execution_count": 19,
     "metadata": {},
     "output_type": "execute_result"
    }
   ],
   "source": [
    "train_dataset.to_pandas_dataframe().tail()"
   ]
  },
  {
   "cell_type": "markdown",
   "metadata": {},
   "source": [
    "## Modeling\n",
    "\n"
   ]
  },
  {
   "cell_type": "code",
   "execution_count": 21,
   "metadata": {},
   "outputs": [],
   "source": [
    "target_column_name = 'ACV Weighted Distribution'"
   ]
  },
  {
   "cell_type": "markdown",
   "metadata": {},
   "source": [
    "## Train\n"
   ]
  },
  {
   "cell_type": "code",
   "execution_count": 22,
   "metadata": {},
   "outputs": [],
   "source": [
    "from azureml.automl.core.forecasting_parameters import ForecastingParameters\n",
    "forecasting_parameters = ForecastingParameters(\n",
    "    time_column_name=time_column_name,\n",
    "    forecast_horizon=n_test_periods,\n",
    "    time_series_id_column_names=time_series_id_column_names\n",
    ")\n",
    "\n",
    "automl_config = AutoMLConfig(task='forecasting',\n",
    "                             debug_log='automl_gsk_sales_errors.log',\n",
    "                             primary_metric='normalized_mean_absolute_error',\n",
    "                             experiment_timeout_hours=0.25,\n",
    "                             training_data=train_dataset,\n",
    "                             label_column_name=target_column_name,\n",
    "                             compute_target=compute_target,\n",
    "                             enable_early_stopping=True,\n",
    "                             featurization='auto',\n",
    "                             n_cross_validations=3,\n",
    "                             verbosity=logging.INFO,\n",
    "                             max_cores_per_iteration=-1,\n",
    "                             forecasting_parameters=forecasting_parameters)"
   ]
  },
  {
   "cell_type": "code",
   "execution_count": 23,
   "metadata": {},
   "outputs": [
    {
     "name": "stdout",
     "output_type": "stream",
     "text": [
      "Running on remote.\n"
     ]
    },
    {
     "data": {
      "text/html": [
       "<table style=\"width:100%\"><tr><th>Experiment</th><th>Id</th><th>Type</th><th>Status</th><th>Details Page</th><th>Docs Page</th></tr><tr><td>automl-gsk-forecasting</td><td>AutoML_5b3e8c85-e09a-4b44-a5fa-5944d06f35ed</td><td>automl</td><td>NotStarted</td><td><a href=\"https://ml.azure.com/experiments/automl-gsk-forecasting/runs/AutoML_5b3e8c85-e09a-4b44-a5fa-5944d06f35ed?wsid=/subscriptions/08d28dbf-1252-4438-b3be-0188e3803935/resourcegroups/forecastrg/workspaces/Forecasting\" target=\"_blank\" rel=\"noopener\">Link to Azure Machine Learning studio</a></td><td><a href=\"https://docs.microsoft.com/en-us/python/api/overview/azure/ml/intro?view=azure-ml-py\" target=\"_blank\" rel=\"noopener\">Link to Documentation</a></td></tr></table>"
      ],
      "text/plain": [
       "Run(Experiment: automl-gsk-forecasting,\n",
       "Id: AutoML_5b3e8c85-e09a-4b44-a5fa-5944d06f35ed,\n",
       "Type: automl,\n",
       "Status: NotStarted)"
      ]
     },
     "execution_count": 23,
     "metadata": {},
     "output_type": "execute_result"
    }
   ],
   "source": [
    "remote_run = experiment.submit(automl_config, show_output=False)\n",
    "remote_run"
   ]
  },
  {
   "cell_type": "code",
   "execution_count": 24,
   "metadata": {},
   "outputs": [
    {
     "data": {
      "text/plain": [
       "{'runId': 'AutoML_5b3e8c85-e09a-4b44-a5fa-5944d06f35ed',\n",
       " 'target': 'cpu-cluster',\n",
       " 'status': 'Completed',\n",
       " 'startTimeUtc': '2021-04-18T22:01:56.080879Z',\n",
       " 'endTimeUtc': '2021-04-18T22:28:14.459079Z',\n",
       " 'properties': {'num_iterations': '1000',\n",
       "  'training_type': 'TrainFull',\n",
       "  'acquisition_function': 'EI',\n",
       "  'primary_metric': 'normalized_mean_absolute_error',\n",
       "  'train_split': '0',\n",
       "  'acquisition_parameter': '0',\n",
       "  'num_cross_validation': '3',\n",
       "  'target': 'cpu-cluster',\n",
       "  'AMLSettingsJsonString': '{\"path\":null,\"name\":\"automl-gsk-forecasting\",\"subscription_id\":\"08d28dbf-1252-4438-b3be-0188e3803935\",\"resource_group\":\"forecastrg\",\"workspace_name\":\"Forecasting\",\"region\":\"westcentralus\",\"compute_target\":\"cpu-cluster\",\"spark_service\":null,\"azure_service\":\"remote\",\"many_models\":false,\"pipeline_fetch_max_batch_size\":1,\"iterations\":1000,\"primary_metric\":\"normalized_mean_absolute_error\",\"task_type\":\"regression\",\"data_script\":null,\"validation_size\":0.0,\"n_cross_validations\":3,\"y_min\":null,\"y_max\":null,\"num_classes\":null,\"featurization\":\"auto\",\"_ignore_package_version_incompatibilities\":false,\"is_timeseries\":true,\"max_cores_per_iteration\":-1,\"max_concurrent_iterations\":1,\"iteration_timeout_minutes\":null,\"mem_in_mb\":null,\"enforce_time_on_windows\":false,\"experiment_timeout_minutes\":15,\"experiment_exit_score\":null,\"whitelist_models\":null,\"blacklist_algos\":[\"TensorFlowDNN\",\"TensorFlowLinearRegressor\",\"Naive\",\"SeasonalNaive\",\"Average\",\"SeasonalAverage\",\"ExponentialSmoothing\",\"Arimax\"],\"supported_models\":[\"TensorFlowDNN\",\"SeasonalNaive\",\"XGBoostRegressor\",\"Naive\",\"DecisionTree\",\"LassoLars\",\"SeasonalAverage\",\"TCNForecaster\",\"TensorFlowLinearRegressor\",\"GradientBoosting\",\"Average\",\"KNN\",\"ElasticNet\",\"SGD\",\"LightGBM\",\"AutoArima\",\"Prophet\",\"ExtremeRandomTrees\",\"RandomForest\"],\"private_models\":[\"ExponentialSmoothing\"],\"auto_blacklist\":true,\"blacklist_samples_reached\":false,\"exclude_nan_labels\":true,\"verbosity\":20,\"_debug_log\":\"azureml_automl.log\",\"show_warnings\":false,\"model_explainability\":true,\"service_url\":null,\"sdk_url\":null,\"sdk_packages\":null,\"enable_onnx_compatible_models\":false,\"enable_split_onnx_featurizer_estimator_models\":false,\"vm_type\":\"STANDARD_D2_V2\",\"telemetry_verbosity\":20,\"send_telemetry\":true,\"enable_dnn\":false,\"scenario\":\"SDK-1.13.0\",\"environment_label\":null,\"force_text_dnn\":false,\"enable_feature_sweeping\":false,\"time_column_name\":\"Week_Date_Start\",\"grain_column_names\":[\"EAN_UPC_Code\"],\"drop_column_names\":[],\"max_horizon\":4,\"dropna\":false,\"overwrite_columns\":true,\"transform_dictionary\":{\"min\":\"_automl_target_col\",\"max\":\"_automl_target_col\",\"mean\":\"_automl_target_col\"},\"window_size\":null,\"country_or_region\":null,\"lags\":null,\"feature_lags\":null,\"seasonality\":\"auto\",\"use_stl\":null,\"short_series_handling\":true,\"freq\":null,\"short_series_handling_configuration\":\"auto\",\"enable_early_stopping\":true,\"early_stopping_n_iters\":10,\"metrics\":null,\"enable_ensembling\":true,\"enable_stack_ensembling\":false,\"ensemble_iterations\":15,\"enable_tf\":false,\"enable_subsampling\":false,\"subsample_seed\":null,\"enable_nimbusml\":false,\"enable_streaming\":false,\"force_streaming\":false,\"track_child_runs\":true,\"allowed_private_models\":[],\"label_column_name\":\"ACV Weighted Distribution\",\"weight_column_name\":null,\"cv_split_column_names\":null,\"enable_local_managed\":false,\"_local_managed_run_id\":null,\"cost_mode\":1,\"lag_length\":0,\"metric_operation\":\"minimize\",\"preprocess\":true}',\n",
       "  'DataPrepJsonString': '{\\\\\"training_data\\\\\": \\\\\"{\\\\\\\\\\\\\"blocks\\\\\\\\\\\\\": [{\\\\\\\\\\\\\"id\\\\\\\\\\\\\": \\\\\\\\\\\\\"5a2d4fbb-2888-4c41-94b5-00641514a61d\\\\\\\\\\\\\", \\\\\\\\\\\\\"type\\\\\\\\\\\\\": \\\\\\\\\\\\\"Microsoft.DPrep.GetDatastoreFilesBlock\\\\\\\\\\\\\", \\\\\\\\\\\\\"arguments\\\\\\\\\\\\\": {\\\\\\\\\\\\\"datastores\\\\\\\\\\\\\": [{\\\\\\\\\\\\\"datastoreName\\\\\\\\\\\\\": \\\\\\\\\\\\\"workspaceblobstore\\\\\\\\\\\\\", \\\\\\\\\\\\\"path\\\\\\\\\\\\\": \\\\\\\\\\\\\"dataset/gsk_train.csv\\\\\\\\\\\\\", \\\\\\\\\\\\\"resourceGroup\\\\\\\\\\\\\": \\\\\\\\\\\\\"forecastrg\\\\\\\\\\\\\", \\\\\\\\\\\\\"subscription\\\\\\\\\\\\\": \\\\\\\\\\\\\"08d28dbf-1252-4438-b3be-0188e3803935\\\\\\\\\\\\\", \\\\\\\\\\\\\"workspaceName\\\\\\\\\\\\\": \\\\\\\\\\\\\"Forecasting\\\\\\\\\\\\\"}]}, \\\\\\\\\\\\\"localData\\\\\\\\\\\\\": {}, \\\\\\\\\\\\\"isEnabled\\\\\\\\\\\\\": true, \\\\\\\\\\\\\"name\\\\\\\\\\\\\": null, \\\\\\\\\\\\\"annotation\\\\\\\\\\\\\": null}, {\\\\\\\\\\\\\"id\\\\\\\\\\\\\": \\\\\\\\\\\\\"a1e41274-95b7-4883-aba4-68011a7726cc\\\\\\\\\\\\\", \\\\\\\\\\\\\"type\\\\\\\\\\\\\": \\\\\\\\\\\\\"Microsoft.DPrep.ParseDelimitedBlock\\\\\\\\\\\\\", \\\\\\\\\\\\\"arguments\\\\\\\\\\\\\": {\\\\\\\\\\\\\"columnHeadersMode\\\\\\\\\\\\\": 3, \\\\\\\\\\\\\"fileEncoding\\\\\\\\\\\\\": 0, \\\\\\\\\\\\\"handleQuotedLineBreaks\\\\\\\\\\\\\": false, \\\\\\\\\\\\\"preview\\\\\\\\\\\\\": false, \\\\\\\\\\\\\"separator\\\\\\\\\\\\\": \\\\\\\\\\\\\",\\\\\\\\\\\\\", \\\\\\\\\\\\\"skipRows\\\\\\\\\\\\\": 0, \\\\\\\\\\\\\"skipRowsMode\\\\\\\\\\\\\": 0}, \\\\\\\\\\\\\"localData\\\\\\\\\\\\\": {}, \\\\\\\\\\\\\"isEnabled\\\\\\\\\\\\\": true, \\\\\\\\\\\\\"name\\\\\\\\\\\\\": null, \\\\\\\\\\\\\"annotation\\\\\\\\\\\\\": null}, {\\\\\\\\\\\\\"id\\\\\\\\\\\\\": \\\\\\\\\\\\\"4b957494-b9ec-463b-8b0c-59c898dd817c\\\\\\\\\\\\\", \\\\\\\\\\\\\"type\\\\\\\\\\\\\": \\\\\\\\\\\\\"Microsoft.DPrep.DropColumnsBlock\\\\\\\\\\\\\", \\\\\\\\\\\\\"arguments\\\\\\\\\\\\\": {\\\\\\\\\\\\\"columns\\\\\\\\\\\\\": {\\\\\\\\\\\\\"type\\\\\\\\\\\\\": 0, \\\\\\\\\\\\\"details\\\\\\\\\\\\\": {\\\\\\\\\\\\\"selectedColumns\\\\\\\\\\\\\": [\\\\\\\\\\\\\"Path\\\\\\\\\\\\\"]}}}, \\\\\\\\\\\\\"localData\\\\\\\\\\\\\": {}, \\\\\\\\\\\\\"isEnabled\\\\\\\\\\\\\": true, \\\\\\\\\\\\\"name\\\\\\\\\\\\\": null, \\\\\\\\\\\\\"annotation\\\\\\\\\\\\\": null}, {\\\\\\\\\\\\\"id\\\\\\\\\\\\\": \\\\\\\\\\\\\"569204ba-cba0-4ff4-9146-0a928a90cc5d\\\\\\\\\\\\\", \\\\\\\\\\\\\"type\\\\\\\\\\\\\": \\\\\\\\\\\\\"Microsoft.DPrep.SetColumnTypesBlock\\\\\\\\\\\\\", \\\\\\\\\\\\\"arguments\\\\\\\\\\\\\": {\\\\\\\\\\\\\"columnConversion\\\\\\\\\\\\\": [{\\\\\\\\\\\\\"column\\\\\\\\\\\\\": {\\\\\\\\\\\\\"type\\\\\\\\\\\\\": 2, \\\\\\\\\\\\\"details\\\\\\\\\\\\\": {\\\\\\\\\\\\\"selectedColumn\\\\\\\\\\\\\": \\\\\\\\\\\\\"EAN_UPC_Code\\\\\\\\\\\\\"}}, \\\\\\\\\\\\\"typeProperty\\\\\\\\\\\\\": 2}, {\\\\\\\\\\\\\"column\\\\\\\\\\\\\": {\\\\\\\\\\\\\"type\\\\\\\\\\\\\": 2, \\\\\\\\\\\\\"details\\\\\\\\\\\\\": {\\\\\\\\\\\\\"selectedColumn\\\\\\\\\\\\\": \\\\\\\\\\\\\"Retail Sales Price\\\\\\\\\\\\\"}}, \\\\\\\\\\\\\"typeProperty\\\\\\\\\\\\\": 3}, {\\\\\\\\\\\\\"column\\\\\\\\\\\\\": {\\\\\\\\\\\\\"type\\\\\\\\\\\\\": 2, \\\\\\\\\\\\\"details\\\\\\\\\\\\\": {\\\\\\\\\\\\\"selectedColumn\\\\\\\\\\\\\": \\\\\\\\\\\\\"ACV Weighted Distribution\\\\\\\\\\\\\"}}, \\\\\\\\\\\\\"typeProperty\\\\\\\\\\\\\": 3}, {\\\\\\\\\\\\\"column\\\\\\\\\\\\\": {\\\\\\\\\\\\\"type\\\\\\\\\\\\\": 2, \\\\\\\\\\\\\"details\\\\\\\\\\\\\": {\\\\\\\\\\\\\"selectedColumn\\\\\\\\\\\\\": \\\\\\\\\\\\\"Week_Date_Start\\\\\\\\\\\\\"}}, \\\\\\\\\\\\\"typeArguments\\\\\\\\\\\\\": {\\\\\\\\\\\\\"dateTimeFormats\\\\\\\\\\\\\": [\\\\\\\\\\\\\"%Y-%m-%d\\\\\\\\\\\\\"]}, \\\\\\\\\\\\\"typeProperty\\\\\\\\\\\\\": 4}]}, \\\\\\\\\\\\\"localData\\\\\\\\\\\\\": {}, \\\\\\\\\\\\\"isEnabled\\\\\\\\\\\\\": true, \\\\\\\\\\\\\"name\\\\\\\\\\\\\": null, \\\\\\\\\\\\\"annotation\\\\\\\\\\\\\": null}], \\\\\\\\\\\\\"inspectors\\\\\\\\\\\\\": [], \\\\\\\\\\\\\"meta\\\\\\\\\\\\\": {\\\\\\\\\\\\\"savedDatasetId\\\\\\\\\\\\\": \\\\\\\\\\\\\"5ed62537-3d66-4b0b-a32e-546d87922d69\\\\\\\\\\\\\", \\\\\\\\\\\\\"datasetType\\\\\\\\\\\\\": \\\\\\\\\\\\\"tabular\\\\\\\\\\\\\", \\\\\\\\\\\\\"subscriptionId\\\\\\\\\\\\\": \\\\\\\\\\\\\"08d28dbf-1252-4438-b3be-0188e3803935\\\\\\\\\\\\\", \\\\\\\\\\\\\"workspaceId\\\\\\\\\\\\\": \\\\\\\\\\\\\"b77bc81e-ecd5-46c1-b320-cf4ec7d12f49\\\\\\\\\\\\\", \\\\\\\\\\\\\"workspaceLocation\\\\\\\\\\\\\": \\\\\\\\\\\\\"westcentralus\\\\\\\\\\\\\"}}\\\\\", \\\\\"activities\\\\\": 0}',\n",
       "  'EnableSubsampling': 'False',\n",
       "  'runTemplate': 'AutoML',\n",
       "  'azureml.runsource': 'automl',\n",
       "  'display_task_type': 'forecasting',\n",
       "  'dependencies_versions': '{\"azureml-widgets\": \"1.20.0\", \"azureml-train\": \"1.20.0\", \"azureml-train-restclients-hyperdrive\": \"1.22.0\", \"azureml-train-core\": \"1.22.0\", \"azureml-train-automl\": \"1.22.0\", \"azureml-train-automl-runtime\": \"1.22.0\", \"azureml-train-automl-client\": \"1.22.0\", \"azureml-tensorboard\": \"1.20.0\", \"azureml-telemetry\": \"1.22.0\", \"azureml-sdk\": \"1.20.0\", \"azureml-samples\": \"0+unknown\", \"azureml-pipeline\": \"1.20.0\", \"azureml-pipeline-steps\": \"1.22.0\", \"azureml-pipeline-core\": \"1.22.0\", \"azureml-opendatasets\": \"1.20.0\", \"azureml-model-management-sdk\": \"1.0.1b6.post1\", \"azureml-mlflow\": \"1.20.0.post1\", \"azureml-interpret\": \"1.22.0\", \"azureml-explain-model\": \"1.20.0\", \"azureml-defaults\": \"1.22.0\", \"azureml-dataset-runtime\": \"1.22.0\", \"azureml-dataprep\": \"2.9.1\", \"azureml-dataprep-rslex\": \"1.7.0\", \"azureml-dataprep-native\": \"29.0.0\", \"azureml-datadrift\": \"1.20.0\", \"azureml-core\": \"1.22.0\", \"azureml-contrib-services\": \"1.20.0\", \"azureml-contrib-server\": \"1.20.0\", \"azureml-contrib-reinforcementlearning\": \"1.20.0\", \"azureml-contrib-pipeline-steps\": \"1.20.0\", \"azureml-contrib-notebook\": \"1.20.0\", \"azureml-contrib-interpret\": \"1.20.0\", \"azureml-contrib-gbdt\": \"1.20.0\", \"azureml-contrib-fairness\": \"1.20.0\", \"azureml-contrib-dataset\": \"1.20.0\", \"azureml-cli-common\": \"1.20.0\", \"azureml-automl-runtime\": \"1.22.0\", \"azureml-automl-core\": \"1.22.0\", \"azureml-accel-models\": \"1.20.0\"}',\n",
       "  '_aml_system_scenario_identification': 'Remote.Parent',\n",
       "  'ClientType': 'SDK',\n",
       "  'environment_cpu_name': 'AzureML-AutoML',\n",
       "  'environment_cpu_label': 'prod',\n",
       "  'environment_gpu_name': 'AzureML-AutoML-GPU',\n",
       "  'environment_gpu_label': 'prod',\n",
       "  'root_attribution': 'automl',\n",
       "  'attribution': 'AutoML',\n",
       "  'Orchestrator': 'AutoML',\n",
       "  'CancelUri': 'https://westcentralus.api.azureml.ms/jasmine/v1.0/subscriptions/08d28dbf-1252-4438-b3be-0188e3803935/resourceGroups/forecastrg/providers/Microsoft.MachineLearningServices/workspaces/Forecasting/experimentids/0e1efda1-e3e5-4bc6-8d00-b77c923f0800/cancel/AutoML_5b3e8c85-e09a-4b44-a5fa-5944d06f35ed',\n",
       "  'ClientSdkVersion': '1.26.0',\n",
       "  'snapshotId': '00000000-0000-0000-0000-000000000000',\n",
       "  'SetupRunId': 'AutoML_5b3e8c85-e09a-4b44-a5fa-5944d06f35ed_setup',\n",
       "  'SetupRunContainerId': 'dcid.AutoML_5b3e8c85-e09a-4b44-a5fa-5944d06f35ed_setup',\n",
       "  'forecasting_target_lags': '[0]',\n",
       "  'forecasting_target_rolling_window_size': '0',\n",
       "  'forecasting_max_horizon': '4',\n",
       "  'forecasting_freq': 'W-SUN',\n",
       "  'ProblemInfoJsonString': '{\"dataset_num_categorical\": 0, \"is_sparse\": false, \"subsampling\": false, \"dataset_classes\": 360, \"dataset_features\": 10, \"dataset_samples\": 360, \"single_frequency_class_detected\": false, \"series_column_count\": 1, \"series_count\": 5, \"series_len_min\": 72, \"series_len_max\": 72, \"series_len_avg\": 72.0, \"series_len_perc_25\": 72.0, \"series_len_perc_50\": 72.0, \"series_len_perc_75\": 72.0}',\n",
       "  'ModelExplainRunId': 'AutoML_5b3e8c85-e09a-4b44-a5fa-5944d06f35ed_ModelExplain'},\n",
       " 'inputDatasets': [{'dataset': {'id': '5ed62537-3d66-4b0b-a32e-546d87922d69'}, 'consumptionDetails': {'type': 'RunInput', 'inputName': 'training_data', 'mechanism': 'Direct'}}],\n",
       " 'outputDatasets': [],\n",
       " 'logFiles': {},\n",
       " 'submittedBy': 'Sonia Ang'}"
      ]
     },
     "execution_count": 24,
     "metadata": {},
     "output_type": "execute_result"
    }
   ],
   "source": [
    "remote_run.wait_for_completion()"
   ]
  },
  {
   "cell_type": "markdown",
   "metadata": {},
   "source": [
    "### Retrieve the Best Model\n"
   ]
  },
  {
   "cell_type": "code",
   "execution_count": 25,
   "metadata": {},
   "outputs": [
    {
     "name": "stderr",
     "output_type": "stream",
     "text": [
      "WARNING:root:The version of the SDK does not match the version the model was trained on.\n",
      "WARNING:root:The consistency in the result may not be guaranteed.\n",
      "WARNING:root:Package:azureml-automl-core, training version:1.26.0, current version:1.22.0\n",
      "Package:azureml-automl-runtime, training version:1.26.0, current version:1.22.0\n",
      "Package:azureml-core, training version:1.26.0, current version:1.22.0\n",
      "Package:azureml-dataprep, training version:2.13.2, current version:2.9.1\n",
      "Package:azureml-dataprep-native, training version:32.0.0, current version:29.0.0\n",
      "Package:azureml-dataprep-rslex, training version:1.11.2, current version:1.7.0\n",
      "Package:azureml-dataset-runtime, training version:1.26.0, current version:1.22.0\n",
      "Package:azureml-defaults, training version:1.26.0, current version:1.22.0\n",
      "Package:azureml-interpret, training version:1.26.0, current version:1.22.0\n",
      "Package:azureml-mlflow, training version:1.26.0, current version:1.20.0.post1\n",
      "Package:azureml-pipeline-core, training version:1.26.0, current version:1.22.0\n",
      "Package:azureml-telemetry, training version:1.26.0, current version:1.22.0\n",
      "Package:azureml-train-automl-client, training version:1.26.0, current version:1.22.0\n",
      "Package:azureml-train-automl-runtime, training version:1.26.0, current version:1.22.0\n",
      "WARNING:root:Please ensure the version of your local conda dependencies match the version on which your model was trained in order to properly retrieve your model.\n",
      "ERROR:fbprophet:Importing plotly failed. Interactive plots will not work.\n"
     ]
    },
    {
     "name": "stdout",
     "output_type": "stream",
     "text": [
      "[('timeseriestransformer', TimeSeriesTransformer(featurization_config=None,\n",
      "                      pipeline_type=<TimeSeriesPipelineType.FULL: 1>)), ('ProphetModel', <azureml.automl.runtime.shared._prophet_model.ProphetModel object at 0x7f46eb6a8048>)]\n"
     ]
    }
   ],
   "source": [
    "best_run, fitted_model = remote_run.get_output()\n",
    "print(fitted_model.steps)\n",
    "model_name = best_run.properties['model_name']"
   ]
  },
  {
   "cell_type": "markdown",
   "metadata": {},
   "source": [
    "# Validation\n",
    "##### This is not strictly needed\n"
   ]
  },
  {
   "cell_type": "code",
   "execution_count": 26,
   "metadata": {},
   "outputs": [],
   "source": [
    "X_test = test\n",
    "y_test = X_test.pop(target_column_name).values"
   ]
  },
  {
   "cell_type": "code",
   "execution_count": 27,
   "metadata": {},
   "outputs": [
    {
     "data": {
      "text/html": [
       "<div>\n",
       "<style scoped>\n",
       "    .dataframe tbody tr th:only-of-type {\n",
       "        vertical-align: middle;\n",
       "    }\n",
       "\n",
       "    .dataframe tbody tr th {\n",
       "        vertical-align: top;\n",
       "    }\n",
       "\n",
       "    .dataframe thead th {\n",
       "        text-align: right;\n",
       "    }\n",
       "</style>\n",
       "<table border=\"1\" class=\"dataframe\">\n",
       "  <thead>\n",
       "    <tr style=\"text-align: right;\">\n",
       "      <th></th>\n",
       "      <th>EAN_UPC_Code</th>\n",
       "      <th>Retail Sales Price</th>\n",
       "      <th>Week_Date_Start</th>\n",
       "    </tr>\n",
       "  </thead>\n",
       "  <tbody>\n",
       "    <tr>\n",
       "      <th>72</th>\n",
       "      <td>33409</td>\n",
       "      <td>10.02</td>\n",
       "      <td>2020-05-24</td>\n",
       "    </tr>\n",
       "    <tr>\n",
       "      <th>73</th>\n",
       "      <td>33409</td>\n",
       "      <td>10.01</td>\n",
       "      <td>2020-05-31</td>\n",
       "    </tr>\n",
       "    <tr>\n",
       "      <th>74</th>\n",
       "      <td>33409</td>\n",
       "      <td>10.01</td>\n",
       "      <td>2020-06-07</td>\n",
       "    </tr>\n",
       "    <tr>\n",
       "      <th>75</th>\n",
       "      <td>33409</td>\n",
       "      <td>10.01</td>\n",
       "      <td>2020-06-14</td>\n",
       "    </tr>\n",
       "    <tr>\n",
       "      <th>148</th>\n",
       "      <td>34462</td>\n",
       "      <td>28.91</td>\n",
       "      <td>2020-05-24</td>\n",
       "    </tr>\n",
       "  </tbody>\n",
       "</table>\n",
       "</div>"
      ],
      "text/plain": [
       "     EAN_UPC_Code  Retail Sales Price Week_Date_Start\n",
       "72   33409        10.02                2020-05-24    \n",
       "73   33409        10.01                2020-05-31    \n",
       "74   33409        10.01                2020-06-07    \n",
       "75   33409        10.01                2020-06-14    \n",
       "148  34462        28.91                2020-05-24    "
      ]
     },
     "execution_count": 27,
     "metadata": {},
     "output_type": "execute_result"
    }
   ],
   "source": [
    "X_test.head()"
   ]
  },
  {
   "cell_type": "code",
   "execution_count": 28,
   "metadata": {},
   "outputs": [],
   "source": [
    "y_predictions, X_trans = fitted_model.forecast(X_test)"
   ]
  },
  {
   "cell_type": "markdown",
   "metadata": {},
   "source": [
    "# FORECAST"
   ]
  },
  {
   "cell_type": "code",
   "execution_count": 29,
   "metadata": {
    "scrolled": true
   },
   "outputs": [
    {
     "data": {
      "text/html": [
       "<div>\n",
       "<style scoped>\n",
       "    .dataframe tbody tr th:only-of-type {\n",
       "        vertical-align: middle;\n",
       "    }\n",
       "\n",
       "    .dataframe tbody tr th {\n",
       "        vertical-align: top;\n",
       "    }\n",
       "\n",
       "    .dataframe thead th {\n",
       "        text-align: right;\n",
       "    }\n",
       "</style>\n",
       "<table border=\"1\" class=\"dataframe\">\n",
       "  <thead>\n",
       "    <tr style=\"text-align: right;\">\n",
       "      <th></th>\n",
       "      <th>EAN_UPC_Code</th>\n",
       "      <th>Week_Date_Start</th>\n",
       "      <th>Retail Sales Price</th>\n",
       "      <th>ACV Weighted Distribution</th>\n",
       "    </tr>\n",
       "  </thead>\n",
       "  <tbody>\n",
       "    <tr>\n",
       "      <th>0</th>\n",
       "      <td>33409</td>\n",
       "      <td>2020-06-21</td>\n",
       "      <td>10.02</td>\n",
       "      <td>69.38</td>\n",
       "    </tr>\n",
       "    <tr>\n",
       "      <th>1</th>\n",
       "      <td>33409</td>\n",
       "      <td>2020-06-28</td>\n",
       "      <td>10.01</td>\n",
       "      <td>70.70</td>\n",
       "    </tr>\n",
       "    <tr>\n",
       "      <th>2</th>\n",
       "      <td>33409</td>\n",
       "      <td>2020-07-05</td>\n",
       "      <td>10.01</td>\n",
       "      <td>72.44</td>\n",
       "    </tr>\n",
       "    <tr>\n",
       "      <th>3</th>\n",
       "      <td>33409</td>\n",
       "      <td>2020-07-12</td>\n",
       "      <td>10.01</td>\n",
       "      <td>74.09</td>\n",
       "    </tr>\n",
       "    <tr>\n",
       "      <th>4</th>\n",
       "      <td>33409</td>\n",
       "      <td>2020-07-19</td>\n",
       "      <td>10.02</td>\n",
       "      <td>71.76</td>\n",
       "    </tr>\n",
       "  </tbody>\n",
       "</table>\n",
       "</div>"
      ],
      "text/plain": [
       "   EAN_UPC_Code Week_Date_Start  Retail Sales Price  ACV Weighted Distribution\n",
       "0  33409         2020-06-21     10.02               69.38                     \n",
       "1  33409         2020-06-28     10.01               70.70                     \n",
       "2  33409         2020-07-05     10.01               72.44                     \n",
       "3  33409         2020-07-12     10.01               74.09                     \n",
       "4  33409         2020-07-19     10.02               71.76                     "
      ]
     },
     "execution_count": 29,
     "metadata": {},
     "output_type": "execute_result"
    }
   ],
   "source": [
    "forecast.head()"
   ]
  },
  {
   "cell_type": "code",
   "execution_count": 30,
   "metadata": {},
   "outputs": [],
   "source": [
    "X_fct=forecast.copy() #Take a copy of the Scoring data\n",
    "y_fct = X_fct.pop(target_column_name).values"
   ]
  },
  {
   "cell_type": "code",
   "execution_count": 31,
   "metadata": {},
   "outputs": [
    {
     "data": {
      "text/html": [
       "<div>\n",
       "<style scoped>\n",
       "    .dataframe tbody tr th:only-of-type {\n",
       "        vertical-align: middle;\n",
       "    }\n",
       "\n",
       "    .dataframe tbody tr th {\n",
       "        vertical-align: top;\n",
       "    }\n",
       "\n",
       "    .dataframe thead th {\n",
       "        text-align: right;\n",
       "    }\n",
       "</style>\n",
       "<table border=\"1\" class=\"dataframe\">\n",
       "  <thead>\n",
       "    <tr style=\"text-align: right;\">\n",
       "      <th></th>\n",
       "      <th>EAN_UPC_Code</th>\n",
       "      <th>Week_Date_Start</th>\n",
       "      <th>Retail Sales Price</th>\n",
       "    </tr>\n",
       "  </thead>\n",
       "  <tbody>\n",
       "    <tr>\n",
       "      <th>0</th>\n",
       "      <td>33409</td>\n",
       "      <td>2020-06-21</td>\n",
       "      <td>10.02</td>\n",
       "    </tr>\n",
       "    <tr>\n",
       "      <th>1</th>\n",
       "      <td>33409</td>\n",
       "      <td>2020-06-28</td>\n",
       "      <td>10.01</td>\n",
       "    </tr>\n",
       "    <tr>\n",
       "      <th>2</th>\n",
       "      <td>33409</td>\n",
       "      <td>2020-07-05</td>\n",
       "      <td>10.01</td>\n",
       "    </tr>\n",
       "    <tr>\n",
       "      <th>3</th>\n",
       "      <td>33409</td>\n",
       "      <td>2020-07-12</td>\n",
       "      <td>10.01</td>\n",
       "    </tr>\n",
       "    <tr>\n",
       "      <th>4</th>\n",
       "      <td>33409</td>\n",
       "      <td>2020-07-19</td>\n",
       "      <td>10.02</td>\n",
       "    </tr>\n",
       "  </tbody>\n",
       "</table>\n",
       "</div>"
      ],
      "text/plain": [
       "   EAN_UPC_Code Week_Date_Start  Retail Sales Price\n",
       "0  33409         2020-06-21     10.02              \n",
       "1  33409         2020-06-28     10.01              \n",
       "2  33409         2020-07-05     10.01              \n",
       "3  33409         2020-07-12     10.01              \n",
       "4  33409         2020-07-19     10.02              "
      ]
     },
     "execution_count": 31,
     "metadata": {},
     "output_type": "execute_result"
    }
   ],
   "source": [
    "X_fct.head()"
   ]
  },
  {
   "cell_type": "code",
   "execution_count": 32,
   "metadata": {},
   "outputs": [],
   "source": [
    "y_predictions, X_trans = fitted_model.forecast(X_fct)# predict values using best model"
   ]
  },
  {
   "cell_type": "code",
   "execution_count": 33,
   "metadata": {},
   "outputs": [],
   "source": [
    "forecast['Forecast'] = y_predictions # add predictions to the Forecast Dataframe"
   ]
  },
  {
   "cell_type": "code",
   "execution_count": 34,
   "metadata": {},
   "outputs": [
    {
     "data": {
      "text/html": [
       "<div>\n",
       "<style scoped>\n",
       "    .dataframe tbody tr th:only-of-type {\n",
       "        vertical-align: middle;\n",
       "    }\n",
       "\n",
       "    .dataframe tbody tr th {\n",
       "        vertical-align: top;\n",
       "    }\n",
       "\n",
       "    .dataframe thead th {\n",
       "        text-align: right;\n",
       "    }\n",
       "</style>\n",
       "<table border=\"1\" class=\"dataframe\">\n",
       "  <thead>\n",
       "    <tr style=\"text-align: right;\">\n",
       "      <th></th>\n",
       "      <th>EAN_UPC_Code</th>\n",
       "      <th>Week_Date_Start</th>\n",
       "      <th>Retail Sales Price</th>\n",
       "      <th>ACV Weighted Distribution</th>\n",
       "      <th>Forecast</th>\n",
       "    </tr>\n",
       "  </thead>\n",
       "  <tbody>\n",
       "    <tr>\n",
       "      <th>0</th>\n",
       "      <td>33409</td>\n",
       "      <td>2020-06-21</td>\n",
       "      <td>10.02</td>\n",
       "      <td>69.38</td>\n",
       "      <td>66.62</td>\n",
       "    </tr>\n",
       "    <tr>\n",
       "      <th>1</th>\n",
       "      <td>33409</td>\n",
       "      <td>2020-06-28</td>\n",
       "      <td>10.01</td>\n",
       "      <td>70.70</td>\n",
       "      <td>66.23</td>\n",
       "    </tr>\n",
       "    <tr>\n",
       "      <th>2</th>\n",
       "      <td>33409</td>\n",
       "      <td>2020-07-05</td>\n",
       "      <td>10.01</td>\n",
       "      <td>72.44</td>\n",
       "      <td>66.96</td>\n",
       "    </tr>\n",
       "    <tr>\n",
       "      <th>3</th>\n",
       "      <td>33409</td>\n",
       "      <td>2020-07-12</td>\n",
       "      <td>10.01</td>\n",
       "      <td>74.09</td>\n",
       "      <td>66.52</td>\n",
       "    </tr>\n",
       "    <tr>\n",
       "      <th>4</th>\n",
       "      <td>33409</td>\n",
       "      <td>2020-07-19</td>\n",
       "      <td>10.02</td>\n",
       "      <td>71.76</td>\n",
       "      <td>66.04</td>\n",
       "    </tr>\n",
       "    <tr>\n",
       "      <th>5</th>\n",
       "      <td>33409</td>\n",
       "      <td>2020-07-26</td>\n",
       "      <td>10.01</td>\n",
       "      <td>71.34</td>\n",
       "      <td>65.63</td>\n",
       "    </tr>\n",
       "    <tr>\n",
       "      <th>6</th>\n",
       "      <td>33409</td>\n",
       "      <td>2020-08-02</td>\n",
       "      <td>10.02</td>\n",
       "      <td>71.16</td>\n",
       "      <td>66.23</td>\n",
       "    </tr>\n",
       "  </tbody>\n",
       "</table>\n",
       "</div>"
      ],
      "text/plain": [
       "   EAN_UPC_Code Week_Date_Start  Retail Sales Price  \\\n",
       "0  33409         2020-06-21     10.02                 \n",
       "1  33409         2020-06-28     10.01                 \n",
       "2  33409         2020-07-05     10.01                 \n",
       "3  33409         2020-07-12     10.01                 \n",
       "4  33409         2020-07-19     10.02                 \n",
       "5  33409         2020-07-26     10.01                 \n",
       "6  33409         2020-08-02     10.02                 \n",
       "\n",
       "   ACV Weighted Distribution  Forecast  \n",
       "0 69.38                      66.62      \n",
       "1 70.70                      66.23      \n",
       "2 72.44                      66.96      \n",
       "3 74.09                      66.52      \n",
       "4 71.76                      66.04      \n",
       "5 71.34                      65.63      \n",
       "6 71.16                      66.23      "
      ]
     },
     "execution_count": 34,
     "metadata": {},
     "output_type": "execute_result"
    }
   ],
   "source": [
    "forecast.loc[forecast['EAN_UPC_Code']==33409] # select one product to visualize the forecast"
   ]
  },
  {
   "cell_type": "markdown",
   "metadata": {},
   "source": [
    "# Evaluate Forecast"
   ]
  },
  {
   "cell_type": "code",
   "execution_count": 35,
   "metadata": {},
   "outputs": [],
   "source": [
    "assign_dict = {'Forecast': y_predictions, target_column_name: forecast['Retail Sales Price']}\n",
    "df_all = forecast.assign(**assign_dict)"
   ]
  },
  {
   "cell_type": "code",
   "execution_count": 36,
   "metadata": {},
   "outputs": [
    {
     "name": "stdout",
     "output_type": "stream",
     "text": [
      "[Test data scores]\n",
      "\n",
      "normalized_median_absolute_error:   1.000\n",
      "normalized_mean_absolute_error:   1.000\n",
      "root_mean_squared_log_error:   1.383\n",
      "root_mean_squared_error:   36.995\n",
      "mean_absolute_error:   34.131\n",
      "normalized_root_mean_squared_error:   1.000\n",
      "r2_score:   -1.000\n",
      "spearman_correlation:   0.010\n",
      "explained_variance:   -1.060\n",
      "median_absolute_error:   35.823\n",
      "normalized_root_mean_squared_log_error:   0.998\n",
      "mean_absolute_percentage_error:   342.879\n"
     ]
    },
    {
     "data": {
      "image/png": "[encoded data removed]",
      "text/plain": [
       "<Figure size 432x288 with 1 Axes>"
      ]
     },
     "metadata": {
      "needs_background": "light"
     },
     "output_type": "display_data"
    }
   ],
   "source": [
    "from azureml.automl.core.shared import constants\n",
    "from azureml.automl.runtime.shared.score import scoring\n",
    "from matplotlib import pyplot as plt\n",
    "\n",
    "# use automl scoring module\n",
    "scores = scoring.score_regression(\n",
    "    y_test=forecast['Retail Sales Price'],\n",
    "    y_pred=forecast['Forecast'],\n",
    "    metrics=list(constants.Metric.SCALAR_REGRESSION_SET))\n",
    "\n",
    "print(\"[Test data scores]\\n\")\n",
    "for key, value in scores.items():    \n",
    "    print('{}:   {:.3f}'.format(key, value))\n",
    "    \n",
    "# Plot outputs\n",
    "%matplotlib inline\n",
    "test_pred = plt.scatter(forecast[target_column_name], forecast['Forecast'], color='b')\n",
    "test_test = plt.scatter(forecast[target_column_name], forecast[target_column_name], color='g')\n",
    "plt.legend((test_pred, test_test), ('Forecast', 'truth'), loc='upper left', fontsize=8)\n",
    "plt.show()"
   ]
  },
  {
   "cell_type": "code",
   "execution_count": null,
   "metadata": {},
   "outputs": [],
   "source": []
  }
 ],
 "metadata": {
  "authors": [
   {
    "name": "jialiu"
   }
  ],
  "categories": [
   "how-to-use-azureml",
   "automated-machine-learning"
  ],
  "category": "tutorial",
  "celltoolbar": "Raw Cell Format",
  "compute": [
   "Remote"
  ],
  "datasets": [
   "Orange Juice Sales"
  ],
  "deployment": [
   "Azure Container Instance"
  ],
  "exclude_from_index": false,
  "framework": [
   "Azure ML AutoML"
  ],
  "friendly_name": "Forecasting orange juice sales with deployment",
  "index_order": 1,
  "kernel_info": {
   "name": "python3-azureml"
  },
  "kernelspec": {
   "display_name": "Python 3.6 - AzureML",
   "language": "python",
   "name": "python3-azureml"
  },
  "language_info": {
   "codemirror_mode": {
    "name": "ipython",
    "version": 3
   },
   "file_extension": ".py",
   "mimetype": "text/x-python",
   "name": "python",
   "nbconvert_exporter": "python",
   "pygments_lexer": "ipython3",
   "version": "3.6.9"
  },
  "nteract": {
   "version": "nteract-front-end@1.0.0"
  },
  "tags": [
   "None"
  ],
  "task": "Forecasting"
 },
 "nbformat": 4,
 "nbformat_minor": 4
}
